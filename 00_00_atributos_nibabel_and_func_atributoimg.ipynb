{
 "cells": [
  {
   "cell_type": "markdown",
   "id": "7201e281",
   "metadata": {},
   "source": [
    "![](imagenes/UC_FMRI.jpg)"
   ]
  },
  {
   "cell_type": "markdown",
   "id": "4b1fe6fa",
   "metadata": {},
   "source": [
    "---\n",
    "\n",
    "---\n",
    "\n",
    "***Andres Eduardo Aracena Rangel***\n",
    "\n",
    "*Estudiante del programa del Magister en Física Médica*\n",
    "\n",
    "---\n",
    "\n",
    "---\n",
    "\n",
    "El siguiente Script de Python forma parte del trabajo especial de grado.\n",
    "\n",
    "Profesora Guía:\n",
    "\n",
    "*PhD María Daniela Cornejo*\n",
    "\n",
    "---\n",
    "\n",
    "---\n",
    "\n",
    "Con referencia:\n",
    "\n",
    "- [Pagina oficial Nibabel](https://nipy.org/nibabel/index.html)\n",
    "- [Pagina oficial Numpy](https://numpy.org/)\n",
    "- [Pagina oficial Pandas](https://pandas.pydata.org/ )\n",
    "\n",
    "---\n",
    "\n",
    "---"
   ]
  },
  {
   "cell_type": "markdown",
   "id": "466c03e7",
   "metadata": {},
   "source": [
    " # Atributos de neuroimagenes con *nibabel* y función 'atributos_img'"
   ]
  },
  {
   "cell_type": "markdown",
   "id": "cd80f532",
   "metadata": {},
   "source": [
    "# Importamos librerias\n"
   ]
  },
  {
   "cell_type": "code",
   "execution_count": 1,
   "id": "6148c904",
   "metadata": {},
   "outputs": [],
   "source": [
    "import time # medir el tiempo de ejecución de nuestros programas\n",
    "start = time.process_time()\n",
    "inicio = time.time()"
   ]
  },
  {
   "cell_type": "code",
   "execution_count": 2,
   "id": "853c6998",
   "metadata": {},
   "outputs": [],
   "source": [
    "import os # El módulo os nos permite acceder a funcionalidades dependientes del Sistema Operativo\n",
    "from os.path import join as opj # Este método concatena varios componentes de ruta con exactamente un separador de directorio(‘/’)\n",
    "\n",
    "import numpy as np\n",
    "import nibabel as nib # Acceso de letcura/escritura y visualización de algunos formatos comunes de neuroimagen"
   ]
  },
  {
   "cell_type": "markdown",
   "id": "58d7ca01",
   "metadata": {},
   "source": [
    "# Definimos Parametros "
   ]
  },
  {
   "cell_type": "code",
   "execution_count": 3,
   "id": "78fe5af9",
   "metadata": {},
   "outputs": [],
   "source": [
    "'''\n",
    "Ruta del directorio de la data\n",
    "'''\n",
    "path_data = '/home/aracena/data/ds002422/'\n",
    "\n",
    "'''\n",
    "Ruta donde reposa la imagen anatomica\n",
    "'''\n",
    "path_anat = opj(path_data,'sub-01','anat')\n",
    "\n",
    "'''\n",
    "Ruta donde reposa la imagen funcional\n",
    "'''\n",
    "path_fmri = opj(path_data,'sub-01','func')\n",
    "\n",
    "'''\n",
    "Ruta donde reposa el archivo.json\n",
    "'''\n",
    "path_json = opj(path_data,'sub-01','func')"
   ]
  },
  {
   "cell_type": "markdown",
   "id": "415bff10",
   "metadata": {},
   "source": [
    "&nbsp;\n",
    "# Cargamos imagenes anatomica y funcional"
   ]
  },
  {
   "cell_type": "markdown",
   "id": "735ad58d",
   "metadata": {},
   "source": [
    "Para cargar imagenes en formato nii, importamos el modulo\n",
    "\n",
    "    nibabel\n",
    "    \n",
    "> Este paquete proporciona acceso de lectura/escritura a algunos formatos de archivo médicos y de neuroimagen comunes, que incluyen: ANALYZE (simple, SPM99, SPM2 y posterior), GIFTI, NIfTI1, NIfTI2, CIFTI-2, MINC1, MINC2, AFNI BRIK / HEAD, MGH y ECAT, así como Philips PAR/REC. Podemos leer y escribir archivos de geometría, anotación y morfometría de FreeSurfer. Existe un soporte muy limitado para DICOM. NiBabel es el sucesor de PyNIfTI.\n",
    "\n",
    "&nbsp;\n",
    "\n",
    "[ref: nibabel](https://nipy.org/nibabel/)\n",
    "\n",
    "&nbsp;"
   ]
  },
  {
   "cell_type": "code",
   "execution_count": 4,
   "id": "192c6224",
   "metadata": {
    "run_control": {
     "marked": false
    }
   },
   "outputs": [],
   "source": [
    "# Anatomica\n",
    "img_ana = nib.load(opj(path_anat,'sub-01_T1w.nii')) # Cargamos la imagen y creamos un objeto imagen_anatomica\n",
    "\n",
    "# Fisiologica\n",
    "img_fis = nib.load(opj(path_fmri, 'sub-01_task-rest_bold.nii.gz')) # Cargamos la imagen y creamos un objeto imagen_fisiologica"
   ]
  },
  {
   "cell_type": "markdown",
   "id": "11d5167a",
   "metadata": {},
   "source": [
    "&nbsp;\n",
    "\n",
    "Los objetos \n",
    "    \n",
    "    img_ana    \n",
    "    img_fis\n",
    "    \n",
    "son una instancia de una imagen nibabel\n",
    "\n",
    "&nbsp;"
   ]
  },
  {
   "cell_type": "code",
   "execution_count": 5,
   "id": "381f050c",
   "metadata": {},
   "outputs": [
    {
     "data": {
      "text/plain": [
       "<nibabel.nifti1.Nifti1Image at 0x7fe324142d90>"
      ]
     },
     "execution_count": 5,
     "metadata": {},
     "output_type": "execute_result"
    }
   ],
   "source": [
    "img_ana"
   ]
  },
  {
   "cell_type": "code",
   "execution_count": 6,
   "id": "5f114607",
   "metadata": {},
   "outputs": [
    {
     "data": {
      "text/plain": [
       "<nibabel.nifti1.Nifti1Image at 0x7fe324159100>"
      ]
     },
     "execution_count": 6,
     "metadata": {},
     "output_type": "execute_result"
    }
   ],
   "source": [
    "img_fis"
   ]
  },
  {
   "cell_type": "markdown",
   "id": "04f9c51e",
   "metadata": {},
   "source": [
    "Un objeto de imagen nibabel tiene asociado o esta compuesta de tres cosas:\n",
    "    \n",
    "    - una matriz de N dimensiones que contiene los datos de la imagen,\n",
    "\n",
    "    - una matriz afín (4, 4) mapeando las coordenadas de la matriz a las coordenadas en algún espacio de coordenadas mundial RAS+,\n",
    "    \n",
    "    - metadatos de imagen en forma de encabezado ."
   ]
  },
  {
   "cell_type": "markdown",
   "id": "d699c663",
   "metadata": {},
   "source": [
    "&nbsp;\n",
    "# Atributos de las imagenes (objetos)\n",
    "Como cualquier *objeto* de Python, se puede inspeccionar *img_ana* y/o *img_fis* para ver que atributos tiene.\n",
    "\n",
    "Si trabajas en Jupiter Notebook, se recomienda habilitar la extension de Autocompletar texto (*Hiterland*), el cual, al escribir en el codigo el objeto seguido de un punto, nos mostrara los diferentes atributos de dicho objeto:\n",
    "\n",
    "<img src=\"imagenes/atributo.jpg\" width=\"250\">\n",
    "\n",
    "A continuacion se da el ejemplo de algunos atributos de las imagenes:"
   ]
  },
  {
   "cell_type": "markdown",
   "id": "e6ece9b5",
   "metadata": {},
   "source": [
    "## Forma de la Matriz imagen\n"
   ]
  },
  {
   "cell_type": "code",
   "execution_count": 7,
   "id": "059c7bdb",
   "metadata": {},
   "outputs": [
    {
     "name": "stdout",
     "output_type": "stream",
     "text": [
      "--------------------------- \n",
      "\n",
      "Forma de la matriz_ana: \n",
      " (256, 256, 176) ------> 3D \n",
      "\n",
      "--------------------------- \n",
      "\n",
      "Forma de la matriz_fis: \n",
      " (64, 64, 36, 200) ----> 4D \n",
      "\n",
      "--------------------------- \n",
      "\n"
     ]
    }
   ],
   "source": [
    "print('---------------------------', '\\n')\n",
    "\n",
    "# Anatomica\n",
    "form_ana = img_ana.shape # Atributo --> Forma Matriz\n",
    "print('Forma de la matriz_ana:', '\\n', form_ana, '------>', '3D', '\\n')\n",
    "\n",
    "print('---------------------------', '\\n')\n",
    "\n",
    "#Fisiologica\n",
    "form_fis = img_fis.shape # Atributo --> Forma Matriz\n",
    "print('Forma de la matriz_fis:', '\\n', form_fis, '---->', '4D', '\\n')\n",
    "\n",
    "print('---------------------------', '\\n')"
   ]
  },
  {
   "cell_type": "markdown",
   "id": "f35dd769",
   "metadata": {},
   "source": [
    "Notemos como, la matriz de la imagen anatomica es de tres dimensiones (3D), mientras que la matriz de la imagen fisiologica es de cuatro dimensiones (4D)"
   ]
  },
  {
   "cell_type": "markdown",
   "id": "4714fd66",
   "metadata": {},
   "source": [
    "&nbsp;\n",
    "## Matriz afine\n",
    " El atributo\n",
    " \n",
    "    affine\n",
    "\n",
    "es la matriz afín que relaciona las coordenadas de la matriz de datos de imagen con las coordenadas en algunos sistemas de coordenadas mundiales RAS +.\n",
    "\n",
    "&nbsp;"
   ]
  },
  {
   "cell_type": "code",
   "execution_count": 8,
   "id": "6f1c4c6b",
   "metadata": {},
   "outputs": [
    {
     "name": "stdout",
     "output_type": "stream",
     "text": [
      "------------------------------------ \n",
      "\n",
      "Matriz afín de la iamgen anatomica\n",
      "\n",
      "[[   0.02   -0.01    1.    -91.24]\n",
      " [  -0.97   -0.07    0.02  129.15]\n",
      " [  -0.07    0.97    0.01 -153.46]\n",
      " [   0.      0.      0.      1.  ]]\n",
      "\n",
      "------------------------------------ \n",
      "\n"
     ]
    }
   ],
   "source": [
    "np.set_printoptions(precision=2, suppress=True)\n",
    "print('------------------------------------', '\\n')\n",
    "print('Matriz afín de la iamgen anatomica\\n')\n",
    "print(img_ana.affine)\n",
    "print('\\n------------------------------------', '\\n')"
   ]
  },
  {
   "cell_type": "code",
   "execution_count": 9,
   "id": "c5fda880",
   "metadata": {},
   "outputs": [
    {
     "name": "stdout",
     "output_type": "stream",
     "text": [
      "------------------------------------ \n",
      "\n",
      "Matriz afín de la iamgen fisiologica\n",
      "\n",
      "[[  -3.58   -0.28   -0.18  125.85]\n",
      " [  -0.27    3.57   -0.33 -114.61]\n",
      " [  -0.2     0.3     3.76  -56.3 ]\n",
      " [   0.      0.      0.      1.  ]]\n",
      "\n",
      "------------------------------------ \n",
      "\n"
     ]
    }
   ],
   "source": [
    "print('------------------------------------', '\\n')\n",
    "print('Matriz afín de la iamgen fisiologica\\n')\n",
    "print(img_fis.affine)\n",
    "print('\\n------------------------------------', '\\n')"
   ]
  },
  {
   "cell_type": "markdown",
   "id": "cd81ad2f",
   "metadata": {},
   "source": [
    "## Header de las imagenes\n",
    "\n",
    "El header (encabezado) de una imagen contiene los metadatos de la imagen. La información en el encabezado diferirá entre los diferentes formatos de imagen. Por ejemplo, la información del encabezado de un archivo de formato NIfTI1 difiere de la información del encabezado de un archivo de formato MINC.\n",
    "\n",
    "Nuestras imagenes en estudio estan en formato NIfTI1 y, por lo tanto, tiene un encabezado en formato NIfTI1:"
   ]
  },
  {
   "cell_type": "code",
   "execution_count": 10,
   "id": "0c27ec9f",
   "metadata": {},
   "outputs": [
    {
     "name": "stdout",
     "output_type": "stream",
     "text": [
      "Header de la imagen anatomica: \n",
      " \n",
      " <class 'nibabel.nifti1.Nifti1Header'> object, endian='<'\n",
      "sizeof_hdr      : 348\n",
      "data_type       : b''\n",
      "db_name         : b''\n",
      "extents         : 0\n",
      "session_error   : 0\n",
      "regular         : b''\n",
      "dim_info        : 0\n",
      "dim             : [  3 256 256 176   1   1   1   1]\n",
      "intent_p1       : 0.0\n",
      "intent_p2       : 0.0\n",
      "intent_p3       : 0.0\n",
      "intent_code     : none\n",
      "datatype        : float32\n",
      "bitpix          : 32\n",
      "slice_start     : 0\n",
      "pixdim          : [-1.    0.98  0.98  1.    0.    1.    1.    1.  ]\n",
      "vox_offset      : 0.0\n",
      "scl_slope       : nan\n",
      "scl_inter       : nan\n",
      "slice_end       : 0\n",
      "slice_code      : unknown\n",
      "xyzt_units      : 10\n",
      "cal_max         : 0.0\n",
      "cal_min         : 0.0\n",
      "slice_duration  : 0.0\n",
      "toffset         : 0.0\n",
      "glmax           : 0\n",
      "glmin           : 0\n",
      "descrip         : b'FreeSurfer Nov 11 2008'\n",
      "aux_file        : b''\n",
      "qform_code      : scanner\n",
      "sform_code      : scanner\n",
      "quatern_b       : 0.5269799\n",
      "quatern_c       : -0.47705737\n",
      "quatern_d       : -0.50961006\n",
      "qoffset_x       : -91.23536\n",
      "qoffset_y       : 129.15376\n",
      "qoffset_z       : -153.45872\n",
      "srow_x          : [  0.02  -0.01   1.   -91.24]\n",
      "srow_y          : [ -0.97  -0.07   0.02 129.15]\n",
      "srow_z          : [  -0.07    0.97    0.01 -153.46]\n",
      "intent_name     : b''\n",
      "magic           : b'n+1'\n"
     ]
    }
   ],
   "source": [
    "# Header imagen anatomica\n",
    "header_ana = img_ana.header\n",
    "print('Header de la imagen anatomica:', '\\n','\\n' , header_ana)"
   ]
  },
  {
   "cell_type": "code",
   "execution_count": 11,
   "id": "43730078",
   "metadata": {},
   "outputs": [
    {
     "name": "stdout",
     "output_type": "stream",
     "text": [
      "Header de la imagen fisiologica: \n",
      " \n",
      " <class 'nibabel.nifti1.Nifti1Header'> object, endian='<'\n",
      "sizeof_hdr      : 348\n",
      "data_type       : b''\n",
      "db_name         : b''\n",
      "extents         : 0\n",
      "session_error   : 0\n",
      "regular         : b'r'\n",
      "dim_info        : 0\n",
      "dim             : [  4  64  64  36 200   1   1   1]\n",
      "intent_p1       : 0.0\n",
      "intent_p2       : 0.0\n",
      "intent_p3       : 0.0\n",
      "intent_code     : none\n",
      "datatype        : int16\n",
      "bitpix          : 16\n",
      "slice_start     : 0\n",
      "pixdim          : [-1.    3.59  3.59  3.78  3.56  0.    0.    0.  ]\n",
      "vox_offset      : 0.0\n",
      "scl_slope       : nan\n",
      "scl_inter       : nan\n",
      "slice_end       : 0\n",
      "slice_code      : unknown\n",
      "xyzt_units      : 10\n",
      "cal_max         : 0.0\n",
      "cal_min         : 0.0\n",
      "slice_duration  : 0.0\n",
      "toffset         : 0.0\n",
      "glmax           : 0\n",
      "glmin           : 0\n",
      "descrip         : b'FSL5.0'\n",
      "aux_file        : b''\n",
      "qform_code      : aligned\n",
      "sform_code      : aligned\n",
      "quatern_b       : -0.038154073\n",
      "quatern_c       : 0.998028\n",
      "quatern_d       : 0.04250012\n",
      "qoffset_x       : 125.84934\n",
      "qoffset_y       : -114.60879\n",
      "qoffset_z       : -56.303707\n",
      "srow_x          : [ -3.58  -0.28  -0.18 125.85]\n",
      "srow_y          : [  -0.27    3.57   -0.33 -114.61]\n",
      "srow_z          : [ -0.2    0.3    3.76 -56.3 ]\n",
      "intent_name     : b''\n",
      "magic           : b'n+1'\n"
     ]
    }
   ],
   "source": [
    "# Header imagen fisiologica\n",
    "header_fis = img_fis.header\n",
    "print('Header de la imagen fisiologica:', '\\n','\\n' , header_fis)"
   ]
  },
  {
   "cell_type": "markdown",
   "id": "731fad6c",
   "metadata": {},
   "source": [
    "&nbsp;\n",
    "### Metodos del atributo *Header*"
   ]
  },
  {
   "cell_type": "markdown",
   "id": "5553e60e",
   "metadata": {},
   "source": [
    "<img src=\"imagenes/metodo_header.jpg\" width=\"300\">"
   ]
  },
  {
   "cell_type": "markdown",
   "id": "6442f9c1",
   "metadata": {},
   "source": [
    "#### Forma de la matriz"
   ]
  },
  {
   "cell_type": "markdown",
   "id": "dcca6d3e",
   "metadata": {},
   "source": [
    "    get_data_shape()\n",
    "    \n",
    "para obtener la forma de salida de la matriz de datos de imagen:\n",
    "\n",
    "&nbsp;"
   ]
  },
  {
   "cell_type": "code",
   "execution_count": 12,
   "id": "c5b2280b",
   "metadata": {},
   "outputs": [
    {
     "name": "stdout",
     "output_type": "stream",
     "text": [
      "(256, 256, 176)\n"
     ]
    }
   ],
   "source": [
    "print(header_ana.get_data_shape())"
   ]
  },
  {
   "cell_type": "code",
   "execution_count": 13,
   "id": "54f5980a",
   "metadata": {},
   "outputs": [
    {
     "name": "stdout",
     "output_type": "stream",
     "text": [
      "(64, 64, 36, 200)\n"
     ]
    }
   ],
   "source": [
    "print(header_fis.get_data_shape())"
   ]
  },
  {
   "cell_type": "markdown",
   "id": "b21963b9",
   "metadata": {},
   "source": [
    "#### Tipo de datos numéricos"
   ]
  },
  {
   "cell_type": "markdown",
   "id": "bfd0ec96",
   "metadata": {},
   "source": [
    "&nbsp;\n",
    "\n",
    "    get_data_dtype()\n",
    "    \n",
    "para obtener el tipo de datos numérico en el que se almacenan los datos de la imagen:\n",
    "\n",
    "&nbsp;"
   ]
  },
  {
   "cell_type": "code",
   "execution_count": 14,
   "id": "d7f82da0",
   "metadata": {},
   "outputs": [
    {
     "name": "stdout",
     "output_type": "stream",
     "text": [
      "float32 ---> Tipo de datos de la imagen anatómica\n"
     ]
    }
   ],
   "source": [
    "print(header_ana.get_data_dtype(), '---> Tipo de datos de la imagen anatómica')"
   ]
  },
  {
   "cell_type": "code",
   "execution_count": 15,
   "id": "2b632392",
   "metadata": {},
   "outputs": [
    {
     "name": "stdout",
     "output_type": "stream",
     "text": [
      "int16 ---> Tipo de datos de la imagen fisiológica\n"
     ]
    }
   ],
   "source": [
    "print(header_fis.get_data_dtype(), '---> Tipo de datos de la imagen fisiológica')"
   ]
  },
  {
   "cell_type": "markdown",
   "id": "67ff1a16",
   "metadata": {},
   "source": [
    "#### Tamaño de los vóxels"
   ]
  },
  {
   "cell_type": "markdown",
   "id": "b0ec5247",
   "metadata": {},
   "source": [
    "&nbsp;\n",
    "\n",
    "    get_zooms() \n",
    "    \n",
    "para obtener el tamaño de los vóxel en milímetros:\n",
    "\n",
    "&nbsp;"
   ]
  },
  {
   "cell_type": "code",
   "execution_count": 16,
   "id": "6d11e09a",
   "metadata": {},
   "outputs": [
    {
     "name": "stdout",
     "output_type": "stream",
     "text": [
      "(0.97656244, 0.9765625, 1.0)\n"
     ]
    }
   ],
   "source": [
    "print(header_ana.get_zooms())"
   ]
  },
  {
   "cell_type": "code",
   "execution_count": 17,
   "id": "530abc7f",
   "metadata": {
    "scrolled": false
   },
   "outputs": [
    {
     "name": "stdout",
     "output_type": "stream",
     "text": [
      "(3.59375, 3.59375, 3.78, 3.56)\n"
     ]
    }
   ],
   "source": [
    "print(header_fis.get_zooms())"
   ]
  },
  {
   "cell_type": "markdown",
   "id": "5561fce4",
   "metadata": {},
   "source": [
    "#### Tiempo entre exploraciones"
   ]
  },
  {
   "cell_type": "code",
   "execution_count": 18,
   "id": "69b16183",
   "metadata": {},
   "outputs": [
    {
     "name": "stdout",
     "output_type": "stream",
     "text": [
      "3.56\n"
     ]
    }
   ],
   "source": [
    "print(header_fis.get_zooms()[-1])"
   ]
  },
  {
   "cell_type": "markdown",
   "id": "c294f1ee",
   "metadata": {},
   "source": [
    "&nbsp;\n",
    "\n",
    "El último valor de\n",
    "\n",
    "    header_fis.get_zooms()\n",
    "\n",
    "en matrices de 4D, es el tiempo entre exploraciones en milisegundo; en este ejemplo, es de 2.4 *ms*\n",
    "\n",
    "&nbsp;"
   ]
  },
  {
   "cell_type": "markdown",
   "id": "beb68dca",
   "metadata": {},
   "source": [
    "Si deseamos guardar el tamaño del voxel\n",
    "\n",
    "&nbsp;"
   ]
  },
  {
   "cell_type": "code",
   "execution_count": 19,
   "id": "a3cec2ad",
   "metadata": {},
   "outputs": [
    {
     "name": "stdout",
     "output_type": "stream",
     "text": [
      "---------------------------------------------------\n",
      "\n",
      "El tamaño del voxel de la imagen anatomica es de:\n",
      " (0.97656244, 0.9765625, 1.0) mm\n",
      "\n",
      "---------------------------------------------------\n",
      "\n",
      "---------------------------------------------------\n",
      "\n",
      "El tamaño del voxel de la imagen fisiologica es de:\n",
      " (3.59375, 3.59375, 3.78) mm\n",
      "\n",
      "---------------------------------------------------\n",
      "\n"
     ]
    }
   ],
   "source": [
    "hea_vox_ana = header_ana.get_zooms()\n",
    "tam_vox_ana = hea_vox_ana[0:3]\n",
    "\n",
    "hea_vox_fis = header_fis.get_zooms()\n",
    "tam_vox_fis = hea_vox_fis[0:3]\n",
    "\n",
    "print('---------------------------------------------------\\n')\n",
    "print('El tamaño del voxel de la imagen anatomica es de:\\n', tam_vox_ana,'mm')\n",
    "print('\\n---------------------------------------------------\\n')\n",
    "print('---------------------------------------------------\\n')\n",
    "print('El tamaño del voxel de la imagen fisiologica es de:\\n', tam_vox_fis,'mm')\n",
    "print('\\n---------------------------------------------------\\n')"
   ]
  },
  {
   "cell_type": "markdown",
   "id": "6d18e956",
   "metadata": {},
   "source": [
    "&nbsp;\n",
    "# Cargar datos de la imagen\n",
    "\n",
    "Para cualquier tipo de imagen (matriz o proxy), siempre puede obtener los datos con el método\n",
    "\n",
    "    get_fdata()\n",
    "\n",
    "Para la imagen de matriz, get_fdata() simplemente devuelve la matriz de datos"
   ]
  },
  {
   "cell_type": "code",
   "execution_count": 20,
   "id": "ac9262c5",
   "metadata": {},
   "outputs": [],
   "source": [
    "# Anatomica\n",
    "datos_img_ana = img_ana.get_fdata()\n",
    "\n",
    "# Fisiologica\n",
    "datos_img_fis = img_fis.get_fdata()"
   ]
  },
  {
   "cell_type": "markdown",
   "id": "986fae45",
   "metadata": {},
   "source": [
    "&nbsp;\n",
    "## Numero de elemento de cada matriz"
   ]
  },
  {
   "cell_type": "markdown",
   "id": "b346601e",
   "metadata": {},
   "source": [
    "Para conocer el numero de elementos de la matriz imagen, no lo podremos realizar mediante los atributos de objetos de imagenes nifti. Para ello, se debe importar la libreria Numpy\n",
    "\n",
    "    Numpy\n",
    "    \n",
    "> NumPy es el paquete fundamental para la computación científica en Python. Es una biblioteca de Python que proporciona un objeto de matriz multidimensional, varios objetos derivados (como matrices y matrices enmascaradas) y una variedad de rutinas para operaciones rápidas en matrices, incluida la manipulación matemática, lógica, de formas, clasificación, selección, I/O, transformadas discretas de Fourier, álgebra lineal básica, operaciones estadísticas básicas, simulación aleatoria y mucho más.\n",
    "\n",
    "&nbsp;\n",
    "\n",
    "[ref: numpy](https://numpy.org/)\n",
    "\n",
    "&nbsp;"
   ]
  },
  {
   "cell_type": "code",
   "execution_count": 21,
   "id": "c722eae2",
   "metadata": {},
   "outputs": [],
   "source": [
    "import numpy as np"
   ]
  },
  {
   "cell_type": "code",
   "execution_count": 22,
   "id": "0491a194",
   "metadata": {},
   "outputs": [
    {
     "name": "stdout",
     "output_type": "stream",
     "text": [
      "--------------------------- \n",
      "\n",
      "Forma de la matriz_ana: \n",
      " (256, 256, 176) ------> 3D \n",
      "\n",
      "--------------------------- \n",
      "\n",
      "Forma de la matriz_fis: \n",
      " (64, 64, 36, 200) ----> 4D \n",
      "\n",
      "--------------------------- \n",
      "\n"
     ]
    }
   ],
   "source": [
    "# Anatómica\n",
    "datos_ana_shape = datos_img_ana.shape # Atributo --> Forma Matriz\n",
    "\n",
    "#Fisiológica\n",
    "datos_fis_shape = datos_img_fis.shape # Atributo --> Forma Matriz\n",
    "\n",
    "print('---------------------------', '\\n')\n",
    "print('Forma de la matriz_ana:', '\\n', datos_ana_shape, '------>', '3D', '\\n')\n",
    "print('---------------------------', '\\n')\n",
    "print('Forma de la matriz_fis:', '\\n', datos_fis_shape, '---->', '4D', '\\n')\n",
    "print('---------------------------', '\\n')"
   ]
  },
  {
   "cell_type": "code",
   "execution_count": 23,
   "id": "3006b1d9",
   "metadata": {},
   "outputs": [
    {
     "name": "stdout",
     "output_type": "stream",
     "text": [
      "--------------------------------------\n",
      "\n",
      "Numero de elementos de la matriz_ana:\n",
      " 11534336 \n",
      "\n",
      "\n",
      "--------------------------------------\n",
      "\n",
      "Numero de elementos de la matriz_fis:\n",
      " 29491200\n",
      "\n",
      "--------------------------------------\n",
      "\n"
     ]
    }
   ],
   "source": [
    "cant_ana = datos_img_ana.size # Atributo np --> Numero de elementos Matriz\n",
    "cant_fis = datos_img_fis.size # Atributo np --> Numero de elementos Matriz\n",
    "\n",
    "print('--------------------------------------\\n')\n",
    "print('Numero de elementos de la matriz_ana:\\n', cant_ana, '\\n')\n",
    "print('\\n--------------------------------------\\n')\n",
    "print('Numero de elementos de la matriz_fis:\\n', cant_fis)\n",
    "print('\\n--------------------------------------\\n')"
   ]
  },
  {
   "cell_type": "markdown",
   "id": "2417ab8e",
   "metadata": {},
   "source": [
    "# Orientación de la imagen"
   ]
  },
  {
   "cell_type": "code",
   "execution_count": 24,
   "id": "62340c8c",
   "metadata": {},
   "outputs": [
    {
     "name": "stdout",
     "output_type": "stream",
     "text": [
      "--------------------------------------\n",
      "\n",
      "Orientación de la imagen anatómica:\n",
      " ('P', 'S', 'R')\n",
      "\n",
      "--------------------------------------\n",
      "\n",
      "Orientación de la imagen fisiológica:\n",
      " ('L', 'A', 'S')\n",
      "\n",
      "--------------------------------------\n",
      "\n"
     ]
    }
   ],
   "source": [
    "# Anatómica\n",
    "ori_ana = nib.orientations.aff2axcodes(img_ana.affine)\n",
    "\n",
    "#Fisiológica\n",
    "ori_fis = nib.orientations.aff2axcodes(img_fis.affine)\n",
    "\n",
    "print('--------------------------------------\\n')\n",
    "print('Orientación de la imagen anatómica:\\n', ori_ana)\n",
    "print('\\n--------------------------------------\\n')\n",
    "print('Orientación de la imagen fisiológica:\\n', ori_fis)\n",
    "print('\\n--------------------------------------\\n')"
   ]
  },
  {
   "cell_type": "markdown",
   "id": "aac6892d",
   "metadata": {},
   "source": [
    "# Creación de la función 'atributos_img'\n",
    "\n",
    "La siguiente función requiere como input un diccionario con la(s) imagen(es) que queremos extraer sus atributos en un DataFrame (DF) de pandas. Por lo tanto, debemos importar la librería Pandas:\n",
    "\n",
    "    Pandas\n",
    "> Librería escrita como extensión de NumPy para manipulación y análisis de datos para el lenguaje de programación Python. En particular, ofrece estructuras de datos y operaciones para manipular tablas numéricas y series temporales.\n",
    "\n",
    "Pandas dispone de dos estructuras de datos fundamentales:\n",
    "\n",
    "- Series: Estructura de una dimensión,\n",
    "- DataFrame: Estructura de dos dimensiones (tablas), con indexación integrada. Cada columna contiene los valores de una variable y cada fila un conjunto de valores de cada columna.\n",
    "\n",
    "El comportamiento fundamental sobre tipos de datos, indexación y etiquetado/alineación de ejes se aplica a todos los objetos. Estas estructuras se construyen a partir de arrays de la librería NumPy, añadiendo nuevas funcionalidades.\n",
    "\n",
    "&nbsp;\n",
    "\n",
    "[ref: Pandas](https://pandas.pydata.org/ )\n",
    "\n",
    "&nbsp;"
   ]
  },
  {
   "cell_type": "code",
   "execution_count": 25,
   "id": "105b938a",
   "metadata": {},
   "outputs": [],
   "source": [
    "'''\n",
    "Función para extraer los atributos de la(s) imagen(es).\n",
    "\n",
    "Inputs:\n",
    "\n",
    "- img: Diccinario con las imagenes nifti\n",
    "\n",
    "Output:\n",
    "\n",
    "df_atri: Dataframe con los principales atributos de las imagenes contenidas en el diccionario 'img'\n",
    "'''\n",
    "\n",
    "def atributo_img(img):\n",
    "    import pandas as pd\n",
    "    lista_img = list(img.keys()) # Creamos una lista con las claves del diccionario\n",
    "\n",
    "    df_atri = pd.DataFrame()\n",
    "    df_atri.index = ['forma', 'dimension', 'orientacion', '', 'x_img', 'y_img' , 'z_img', 'volumenes_(N)', 'voxel_size_(mm)', \n",
    "                       'TR_(s)', 'tipo_dato', 'numero_voxels','min_img', 'max_img']\n",
    "    \n",
    "    for i, ima in enumerate(lista_img):\n",
    "        lista_atri = []\n",
    "        #cargamos el header de la imagen\n",
    "        header_img = img[ima].header\n",
    "        \n",
    "        # Forma y dimensión de la imágen\n",
    "        forma = header_img.get_data_shape() \n",
    "        lista_atri.append(str(forma))\n",
    "        lista_atri.append(len(forma))\n",
    "        \n",
    "        # Orientacion de la imágen\n",
    "        orientacion = nib.orientations.aff2axcodes(img[ima].affine)\n",
    "        lista_atri.append(orientacion)\n",
    "\n",
    "        # x, y, z y volumenes\n",
    "        ejes=[]\n",
    "        for i in range(len(orientacion)):\n",
    "            tam = img[ima].shape[i]\n",
    "            ori = str(orientacion[i])\n",
    "            if  ori == 'L'or ori == 'R':\n",
    "                x_img = tam\n",
    "                a = 'x'\n",
    "\n",
    "            elif ori == 'A' or ori == 'P':\n",
    "                y_img = tam\n",
    "                a = 'y'\n",
    "\n",
    "            elif ori == 'I'or ori == 'S':\n",
    "                z_img = tam\n",
    "                a = 'z'\n",
    "                \n",
    "            ejes.append(a)\n",
    "        \n",
    "        # Agregamos a la lista de atributos forma, x, y, z\n",
    "        lista_atri.append(ejes)\n",
    "        lista_atri.append(x_img)\n",
    "        lista_atri.append(y_img)\n",
    "        lista_atri.append(z_img)\n",
    "        \n",
    "        # Agregamos volumes a la lista de atributos \n",
    "        if len(forma) == 4:\n",
    "            lista_atri.append(forma[-1])\n",
    "        else:\n",
    "            lista_atri.append('1')\n",
    "\n",
    "        # Tamaño del voxel\n",
    "        tavo = header_img.get_zooms()[0:3]\n",
    "        \n",
    "        tamvox=[]\n",
    "        for i in range(len(tavo)):\n",
    "            tamvox.append(round(tavo[i],3))\n",
    "            \n",
    "        lista_atri.append(tamvox) \n",
    "        \n",
    "        # Tiempo de exploración\n",
    "        if len(header_img.get_zooms()) == 4:\n",
    "            lista_atri.append(header_img.get_zooms()[-1])\n",
    "        else:\n",
    "            lista_atri.append('---')     \n",
    "        \n",
    "        \n",
    "        #lista_atri.append(header_img.get_zooms()[-1])   # Tiempo de exploración\n",
    "        lista_atri.append(header_img.get_data_dtype())   # Tipo de datos numérico\n",
    "        lista_atri.append(img[ima].get_fdata().size) # Número de elementos de la matriz\n",
    "        lista_atri.append(round(img[ima].get_fdata().min(),2)) # Valor minimo de la imágen\n",
    "        lista_atri.append(round(img[ima].get_fdata().max(),2)) # Valor maximo de la imágen\n",
    "        \n",
    "        # Creamos DF de atributos de la imagen\n",
    "        df_at = pd.DataFrame()\n",
    "        df_at = pd.DataFrame(lista_atri)\n",
    "        df_at.columns = [ima]\n",
    "        df_at.index = df_atri.index\n",
    "        #display(df_at)\n",
    "\n",
    "        # Unimos las DF\n",
    "        df_atri = pd.merge(df_atri, df_at,\n",
    "                           right_index=True,left_index=True)\n",
    "    return df_atri"
   ]
  },
  {
   "cell_type": "markdown",
   "id": "ebe66fbc",
   "metadata": {},
   "source": [
    "## Ejecutamos función"
   ]
  },
  {
   "cell_type": "code",
   "execution_count": 26,
   "id": "7f17f1de",
   "metadata": {},
   "outputs": [],
   "source": [
    "img_pru = {'anatomica_ds002422': img_ana, 'funcional_ds002422': img_fis}"
   ]
  },
  {
   "cell_type": "code",
   "execution_count": 27,
   "id": "97202f9c",
   "metadata": {},
   "outputs": [
    {
     "data": {
      "text/html": [
       "<div>\n",
       "<style scoped>\n",
       "    .dataframe tbody tr th:only-of-type {\n",
       "        vertical-align: middle;\n",
       "    }\n",
       "\n",
       "    .dataframe tbody tr th {\n",
       "        vertical-align: top;\n",
       "    }\n",
       "\n",
       "    .dataframe thead th {\n",
       "        text-align: right;\n",
       "    }\n",
       "</style>\n",
       "<table border=\"1\" class=\"dataframe\">\n",
       "  <thead>\n",
       "    <tr style=\"text-align: right;\">\n",
       "      <th></th>\n",
       "      <th>anatomica_ds002422</th>\n",
       "      <th>funcional_ds002422</th>\n",
       "    </tr>\n",
       "  </thead>\n",
       "  <tbody>\n",
       "    <tr>\n",
       "      <th>forma</th>\n",
       "      <td>(256, 256, 176)</td>\n",
       "      <td>(64, 64, 36, 200)</td>\n",
       "    </tr>\n",
       "    <tr>\n",
       "      <th>dimension</th>\n",
       "      <td>3</td>\n",
       "      <td>4</td>\n",
       "    </tr>\n",
       "    <tr>\n",
       "      <th>orientacion</th>\n",
       "      <td>(P, S, R)</td>\n",
       "      <td>(L, A, S)</td>\n",
       "    </tr>\n",
       "    <tr>\n",
       "      <th></th>\n",
       "      <td>[y, z, x]</td>\n",
       "      <td>[x, y, z]</td>\n",
       "    </tr>\n",
       "    <tr>\n",
       "      <th>x_img</th>\n",
       "      <td>176</td>\n",
       "      <td>64</td>\n",
       "    </tr>\n",
       "    <tr>\n",
       "      <th>y_img</th>\n",
       "      <td>256</td>\n",
       "      <td>64</td>\n",
       "    </tr>\n",
       "    <tr>\n",
       "      <th>z_img</th>\n",
       "      <td>256</td>\n",
       "      <td>36</td>\n",
       "    </tr>\n",
       "    <tr>\n",
       "      <th>volumenes_(N)</th>\n",
       "      <td>1</td>\n",
       "      <td>200</td>\n",
       "    </tr>\n",
       "    <tr>\n",
       "      <th>voxel_size_(mm)</th>\n",
       "      <td>[0.977, 0.977, 1.0]</td>\n",
       "      <td>[3.594, 3.594, 3.78]</td>\n",
       "    </tr>\n",
       "    <tr>\n",
       "      <th>TR_(s)</th>\n",
       "      <td>---</td>\n",
       "      <td>3.56</td>\n",
       "    </tr>\n",
       "    <tr>\n",
       "      <th>tipo_dato</th>\n",
       "      <td>float32</td>\n",
       "      <td>int16</td>\n",
       "    </tr>\n",
       "    <tr>\n",
       "      <th>numero_voxels</th>\n",
       "      <td>11534336</td>\n",
       "      <td>29491200</td>\n",
       "    </tr>\n",
       "    <tr>\n",
       "      <th>min_img</th>\n",
       "      <td>0.0</td>\n",
       "      <td>0.0</td>\n",
       "    </tr>\n",
       "    <tr>\n",
       "      <th>max_img</th>\n",
       "      <td>3080.0</td>\n",
       "      <td>1725.0</td>\n",
       "    </tr>\n",
       "  </tbody>\n",
       "</table>\n",
       "</div>"
      ],
      "text/plain": [
       "                  anatomica_ds002422    funcional_ds002422\n",
       "forma                (256, 256, 176)     (64, 64, 36, 200)\n",
       "dimension                          3                     4\n",
       "orientacion                (P, S, R)             (L, A, S)\n",
       "                           [y, z, x]             [x, y, z]\n",
       "x_img                            176                    64\n",
       "y_img                            256                    64\n",
       "z_img                            256                    36\n",
       "volumenes_(N)                      1                   200\n",
       "voxel_size_(mm)  [0.977, 0.977, 1.0]  [3.594, 3.594, 3.78]\n",
       "TR_(s)                           ---                  3.56\n",
       "tipo_dato                    float32                 int16\n",
       "numero_voxels               11534336              29491200\n",
       "min_img                          0.0                   0.0\n",
       "max_img                       3080.0                1725.0"
      ]
     },
     "execution_count": 27,
     "metadata": {},
     "output_type": "execute_result"
    }
   ],
   "source": [
    "atributo_img(img=img_pru)"
   ]
  },
  {
   "cell_type": "markdown",
   "id": "2e820dd0",
   "metadata": {},
   "source": [
    "# Tiempo de ejecución"
   ]
  },
  {
   "cell_type": "code",
   "execution_count": 28,
   "id": "d14195d1",
   "metadata": {},
   "outputs": [
    {
     "name": "stdout",
     "output_type": "stream",
     "text": [
      "--------------------------------------\n",
      "tiempo de ejecución\n",
      "\n",
      " 2.967 seg\n",
      " 0.049 min\n",
      "--------------------------------------\n",
      "tiempo de ejecución del sistema y CPU\n",
      "\n",
      " 1.615 seg\n",
      " 0.027 min\n",
      "--------------------------------------\n"
     ]
    }
   ],
   "source": [
    "fin = time.time()\n",
    "end = time.process_time()\n",
    "tiempo = fin - inicio\n",
    "tiempo2 = end - start\n",
    "\n",
    "print('--------------------------------------')\n",
    "print('tiempo de ejecución\\n\\n', round(tiempo,3), 'seg\\n', round(tiempo/60,3), 'min')     \n",
    "print('--------------------------------------')\n",
    "print('tiempo de ejecución del sistema y CPU\\n\\n', round(tiempo2,3), 'seg\\n', round(tiempo2/60,3), 'min')\n",
    "print('--------------------------------------')"
   ]
  },
  {
   "cell_type": "markdown",
   "id": "0eea6ff1",
   "metadata": {},
   "source": [
    "# Fin"
   ]
  }
 ],
 "metadata": {
  "kernelspec": {
   "display_name": "Python 3 (ipykernel)",
   "language": "python",
   "name": "python3"
  },
  "language_info": {
   "codemirror_mode": {
    "name": "ipython",
    "version": 3
   },
   "file_extension": ".py",
   "mimetype": "text/x-python",
   "name": "python",
   "nbconvert_exporter": "python",
   "pygments_lexer": "ipython3",
   "version": "3.9.7"
  },
  "nbTranslate": {
   "displayLangs": [
    "*"
   ],
   "hotkey": "alt-t",
   "langInMainMenu": true,
   "sourceLang": "en",
   "targetLang": "fr",
   "useGoogleTranslate": true
  },
  "toc": {
   "base_numbering": 1,
   "nav_menu": {},
   "number_sections": true,
   "sideBar": true,
   "skip_h1_title": false,
   "title_cell": "Table of Contents",
   "title_sidebar": "Contents",
   "toc_cell": false,
   "toc_position": {
    "height": "calc(100% - 180px)",
    "left": "10px",
    "top": "150px",
    "width": "349.078px"
   },
   "toc_section_display": true,
   "toc_window_display": true
  },
  "varInspector": {
   "cols": {
    "lenName": 16,
    "lenType": 16,
    "lenVar": 40
   },
   "kernels_config": {
    "python": {
     "delete_cmd_postfix": "",
     "delete_cmd_prefix": "del ",
     "library": "var_list.py",
     "varRefreshCmd": "print(var_dic_list())"
    },
    "r": {
     "delete_cmd_postfix": ") ",
     "delete_cmd_prefix": "rm(",
     "library": "var_list.r",
     "varRefreshCmd": "cat(var_dic_list()) "
    }
   },
   "types_to_exclude": [
    "module",
    "function",
    "builtin_function_or_method",
    "instance",
    "_Feature"
   ],
   "window_display": false
  }
 },
 "nbformat": 4,
 "nbformat_minor": 5
}
